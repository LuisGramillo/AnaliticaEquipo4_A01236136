{
 "cells": [
  {
   "cell_type": "markdown",
   "metadata": {},
   "source": [
    "# Diabetes-  Aprendizaje"
   ]
  },
  {
   "cell_type": "markdown",
   "metadata": {},
   "source": [
    "## Preparacion de Datos"
   ]
  },
  {
   "cell_type": "markdown",
   "metadata": {},
   "source": [
    "### Importar Librerias"
   ]
  },
  {
   "cell_type": "code",
   "execution_count": 224,
   "metadata": {},
   "outputs": [],
   "source": [
    "import pandas as pd\n",
    "import numpy as np\n",
    "import matplotlib.pyplot as plt  \n",
    "import seaborn as sns \n",
    "import ipywidgets as widgets\n",
    "from sklearn.cluster import KMeans"
   ]
  },
  {
   "cell_type": "markdown",
   "metadata": {},
   "source": [
    "### Importar archivo csv"
   ]
  },
  {
   "cell_type": "code",
   "execution_count": 225,
   "metadata": {},
   "outputs": [],
   "source": [
    "diabetes = pd.read_csv(\"diabetes.csv\")"
   ]
  },
  {
   "cell_type": "markdown",
   "metadata": {},
   "source": [
    "### Informacion Variables"
   ]
  },
  {
   "cell_type": "code",
   "execution_count": 226,
   "metadata": {},
   "outputs": [
    {
     "data": {
      "text/html": [
       "<div>\n",
       "<style scoped>\n",
       "    .dataframe tbody tr th:only-of-type {\n",
       "        vertical-align: middle;\n",
       "    }\n",
       "\n",
       "    .dataframe tbody tr th {\n",
       "        vertical-align: top;\n",
       "    }\n",
       "\n",
       "    .dataframe thead th {\n",
       "        text-align: right;\n",
       "    }\n",
       "</style>\n",
       "<table border=\"1\" class=\"dataframe\">\n",
       "  <thead>\n",
       "    <tr style=\"text-align: right;\">\n",
       "      <th></th>\n",
       "      <th>Significado</th>\n",
       "      <th>Tipo</th>\n",
       "      <th>Cual/Cuan</th>\n",
       "      <th>Subtipo</th>\n",
       "      <th>Rango</th>\n",
       "      <th>Media</th>\n",
       "      <th>Moda</th>\n",
       "      <th>Mediana</th>\n",
       "      <th>Desviacion Estandar</th>\n",
       "      <th>Advertencia</th>\n",
       "    </tr>\n",
       "  </thead>\n",
       "  <tbody>\n",
       "    <tr>\n",
       "      <th>Pregnancies</th>\n",
       "      <td>Numero de Veces que ha estado en embarazo</td>\n",
       "      <td>int64</td>\n",
       "      <td>Cuantitativa</td>\n",
       "      <td>Discreta</td>\n",
       "      <td>[0,17]</td>\n",
       "      <td>3.845052</td>\n",
       "      <td>1.000</td>\n",
       "      <td>3.0000</td>\n",
       "      <td>3.369578</td>\n",
       "      <td>La desviacion estandar es mayor a 30% la media</td>\n",
       "    </tr>\n",
       "    <tr>\n",
       "      <th>Glucose</th>\n",
       "      <td>Concentracion de plasma de glucosa en 2 horas ...</td>\n",
       "      <td>int64</td>\n",
       "      <td>Cuantitativa</td>\n",
       "      <td>Discreta</td>\n",
       "      <td>[0,199]</td>\n",
       "      <td>120.894531</td>\n",
       "      <td>99.000</td>\n",
       "      <td>117.0000</td>\n",
       "      <td>31.972618</td>\n",
       "      <td>Ninguna</td>\n",
       "    </tr>\n",
       "    <tr>\n",
       "      <th>BloodPressure</th>\n",
       "      <td>Presion diastolica de la sangre (mmHg)</td>\n",
       "      <td>int64</td>\n",
       "      <td>Cuantitativa</td>\n",
       "      <td>Discreta</td>\n",
       "      <td>[0,122]</td>\n",
       "      <td>69.105469</td>\n",
       "      <td>70.000</td>\n",
       "      <td>72.0000</td>\n",
       "      <td>19.355807</td>\n",
       "      <td>Ninguna</td>\n",
       "    </tr>\n",
       "    <tr>\n",
       "      <th>SkinThickness</th>\n",
       "      <td>Grosor de la piel en el tricep</td>\n",
       "      <td>int64</td>\n",
       "      <td>Cuantitativa</td>\n",
       "      <td>Discreta</td>\n",
       "      <td>[0,99]</td>\n",
       "      <td>20.536458</td>\n",
       "      <td>0.000</td>\n",
       "      <td>23.0000</td>\n",
       "      <td>15.952218</td>\n",
       "      <td>La desviacion estandar es mayor a 30% la media</td>\n",
       "    </tr>\n",
       "    <tr>\n",
       "      <th>Insulin</th>\n",
       "      <td>2 horas con suero de insulina (muU/ml)</td>\n",
       "      <td>int64</td>\n",
       "      <td>Cuantitativa</td>\n",
       "      <td>Discreta</td>\n",
       "      <td>[0,846]</td>\n",
       "      <td>79.799479</td>\n",
       "      <td>0.000</td>\n",
       "      <td>30.5000</td>\n",
       "      <td>115.244002</td>\n",
       "      <td>La desviacion estandar es mayor a 30% la media</td>\n",
       "    </tr>\n",
       "    <tr>\n",
       "      <th>BMI</th>\n",
       "      <td>Indice de masa corporal</td>\n",
       "      <td>float64</td>\n",
       "      <td>Cuantitativa</td>\n",
       "      <td>Continua</td>\n",
       "      <td>[0.0,67.1]</td>\n",
       "      <td>31.992578</td>\n",
       "      <td>32.000</td>\n",
       "      <td>32.0000</td>\n",
       "      <td>7.884160</td>\n",
       "      <td>Ninguna</td>\n",
       "    </tr>\n",
       "    <tr>\n",
       "      <th>DiabetesPedigreeFunction</th>\n",
       "      <td>Funcion del arbol genealogico de diabetes</td>\n",
       "      <td>float64</td>\n",
       "      <td>Cuantitativa</td>\n",
       "      <td>Continua</td>\n",
       "      <td>[0.078,2.42]</td>\n",
       "      <td>0.471876</td>\n",
       "      <td>0.254</td>\n",
       "      <td>0.3725</td>\n",
       "      <td>0.331329</td>\n",
       "      <td>La desviacion estandar es mayor a 30% la media</td>\n",
       "    </tr>\n",
       "    <tr>\n",
       "      <th>Age</th>\n",
       "      <td>Edad en años</td>\n",
       "      <td>int64</td>\n",
       "      <td>Cuantitativa</td>\n",
       "      <td>Discreta</td>\n",
       "      <td>[21,81]</td>\n",
       "      <td>33.240885</td>\n",
       "      <td>22.000</td>\n",
       "      <td>29.0000</td>\n",
       "      <td>11.760232</td>\n",
       "      <td>La desviacion estandar es mayor a 30% la media</td>\n",
       "    </tr>\n",
       "    <tr>\n",
       "      <th>Outcome</th>\n",
       "      <td>Variable de clase 268 de 768 son 1, otros son 0</td>\n",
       "      <td>int64</td>\n",
       "      <td>Cualitativa</td>\n",
       "      <td>Ordinal</td>\n",
       "      <td>[0,1]</td>\n",
       "      <td>0.348958</td>\n",
       "      <td>0.000</td>\n",
       "      <td>0.0000</td>\n",
       "      <td>0.476951</td>\n",
       "      <td>Cualitativa, medidas de tendencia no muy utiles</td>\n",
       "    </tr>\n",
       "  </tbody>\n",
       "</table>\n",
       "</div>"
      ],
      "text/plain": [
       "                                                                Significado  \\\n",
       "Pregnancies                       Numero de Veces que ha estado en embarazo   \n",
       "Glucose                   Concentracion de plasma de glucosa en 2 horas ...   \n",
       "BloodPressure                        Presion diastolica de la sangre (mmHg)   \n",
       "SkinThickness                                Grosor de la piel en el tricep   \n",
       "Insulin                              2 horas con suero de insulina (muU/ml)   \n",
       "BMI                                                 Indice de masa corporal   \n",
       "DiabetesPedigreeFunction          Funcion del arbol genealogico de diabetes   \n",
       "Age                                                            Edad en años   \n",
       "Outcome                     Variable de clase 268 de 768 son 1, otros son 0   \n",
       "\n",
       "                             Tipo     Cual/Cuan   Subtipo         Rango  \\\n",
       "Pregnancies                 int64  Cuantitativa  Discreta        [0,17]   \n",
       "Glucose                     int64  Cuantitativa  Discreta       [0,199]   \n",
       "BloodPressure               int64  Cuantitativa  Discreta       [0,122]   \n",
       "SkinThickness               int64  Cuantitativa  Discreta        [0,99]   \n",
       "Insulin                     int64  Cuantitativa  Discreta       [0,846]   \n",
       "BMI                       float64  Cuantitativa  Continua    [0.0,67.1]   \n",
       "DiabetesPedigreeFunction  float64  Cuantitativa  Continua  [0.078,2.42]   \n",
       "Age                         int64  Cuantitativa  Discreta       [21,81]   \n",
       "Outcome                     int64   Cualitativa   Ordinal         [0,1]   \n",
       "\n",
       "                               Media    Moda   Mediana  Desviacion Estandar  \\\n",
       "Pregnancies                 3.845052   1.000    3.0000             3.369578   \n",
       "Glucose                   120.894531  99.000  117.0000            31.972618   \n",
       "BloodPressure              69.105469  70.000   72.0000            19.355807   \n",
       "SkinThickness              20.536458   0.000   23.0000            15.952218   \n",
       "Insulin                    79.799479   0.000   30.5000           115.244002   \n",
       "BMI                        31.992578  32.000   32.0000             7.884160   \n",
       "DiabetesPedigreeFunction    0.471876   0.254    0.3725             0.331329   \n",
       "Age                        33.240885  22.000   29.0000            11.760232   \n",
       "Outcome                     0.348958   0.000    0.0000             0.476951   \n",
       "\n",
       "                                                              Advertencia  \n",
       "Pregnancies                La desviacion estandar es mayor a 30% la media  \n",
       "Glucose                                                           Ninguna  \n",
       "BloodPressure                                                     Ninguna  \n",
       "SkinThickness              La desviacion estandar es mayor a 30% la media  \n",
       "Insulin                    La desviacion estandar es mayor a 30% la media  \n",
       "BMI                                                               Ninguna  \n",
       "DiabetesPedigreeFunction   La desviacion estandar es mayor a 30% la media  \n",
       "Age                        La desviacion estandar es mayor a 30% la media  \n",
       "Outcome                   Cualitativa, medidas de tendencia no muy utiles  "
      ]
     },
     "execution_count": 226,
     "metadata": {},
     "output_type": "execute_result"
    }
   ],
   "source": [
    "nVariables = diabetes.columns.values\n",
    "porcentajePeligroMedia = 30;\n",
    "names = []\n",
    "cualcuant = []\n",
    "tipo = []\n",
    "media = []\n",
    "moda = []\n",
    "mediana = []\n",
    "desviacionEstandar = []\n",
    "advertencias = []\n",
    "indexpd = []\n",
    "tipoD = []\n",
    "minValue = []\n",
    "maxValue = []\n",
    "rango = []\n",
    "Significado = []\n",
    "c = 0\n",
    "\n",
    "for i in nVariables:\n",
    "    c = c+1;\n",
    "    indexpd.append(c)\n",
    "    if diabetes[i].dtype == \"int64\" or diabetes[i].dtype == \"float64\":\n",
    "        names.append(i)\n",
    "        tipoD.append(diabetes[i].dtype)\n",
    "        minValue.append(diabetes[i].min())\n",
    "        maxValue.append(diabetes[i].max())\n",
    "        minValueDat = diabetes[i].min()\n",
    "        maxValueDat = diabetes[i].max()\n",
    "        media.append(diabetes[i].mean())\n",
    "        moda.append(diabetes[i].mode(dropna=True)[0])\n",
    "        mediana.append(diabetes[i].median())\n",
    "        desviacionEstandar.append(diabetes[i].std())\n",
    "        desviacionEstandarDat = diabetes[i].std()\n",
    "        mediaDat = diabetes[i].mean()\n",
    "        if minValueDat==0 and maxValueDat==1 and diabetes[i].dtype == \"int64\":\n",
    "            cualcuant.append(\"Cualitativa\")\n",
    "            tipo.append(\"Ordinal\")\n",
    "            advertencias.append(\"Cualitativa, medidas de tendencia no muy utiles\")\n",
    "        else:\n",
    "            cualcuant.append(\"Cuantitativa\")\n",
    "            if desviacionEstandarDat >= mediaDat*porcentajePeligroMedia/100:\n",
    "                Advertencia = \"La desviacion estandar es mayor a {}% la media\".format(porcentajePeligroMedia)\n",
    "            else:\n",
    "                Advertencia = \"Ninguna\"\n",
    "            advertencias.append(Advertencia)\n",
    "            if diabetes[i].dtype == \"int64\":\n",
    "                tipo.append(\"Discreta\")\n",
    "            else:\n",
    "                tipo.append(\"Continua\")\n",
    "        rango.append(\"[{},{}]\".format(minValueDat,maxValueDat))\n",
    "    else:\n",
    "        media.append(\"NaN\")\n",
    "        moda.append(\"NaN\")\n",
    "        mediana.append(\"NaN\")\n",
    "        desviacionEstandar.append(\"NaN\")\n",
    "        names.append(i)\n",
    "        cualcuant.append(\"Cualitativa\")\n",
    "        tipo.append(\"Nominal\")\n",
    "        advertencias.append(\"Ninguna\")\n",
    "        rango.append(\"NaN\")\n",
    "Significado.append(\"Numero de Veces que ha estado en embarazo\")\n",
    "Significado.append(\"Concentracion de plasma de glucosa en 2 horas en examen oral de glucosa\")\n",
    "Significado.append(\"Presion diastolica de la sangre (mmHg)\")\n",
    "Significado.append(\"Grosor de la piel en el tricep\")\n",
    "Significado.append(\"2 horas con suero de insulina (muU/ml)\")\n",
    "Significado.append(\"Indice de masa corporal\")\n",
    "Significado.append(\"Funcion del arbol genealogico de diabetes\")\n",
    "Significado.append(\"Edad en años\")\n",
    "Significado.append(\"Variable de clase 268 de 768 son 1, otros son 0\")\n",
    "diabetesExp = {\"Significado\":pd.Series(Significado,index=names),\"Tipo\":pd.Series(tipoD,index=names),\"Cual/Cuan\":pd.Series(cualcuant,index=names),\"Subtipo\":pd.Series(tipo,index=names),\"Rango\":pd.Series(rango,index=names),\"Media\":pd.Series(media,index=names),\"Moda\":pd.Series(moda,index=names),\"Mediana\":pd.Series(mediana,index=names),\"Desviacion Estandar\":pd.Series(desviacionEstandar,index=names),\"Advertencia\":pd.Series(advertencias,index=names)}\n",
    "diabetesDat = pd.DataFrame(diabetesExp)\n",
    "diabetesDat"
   ]
  },
  {
   "cell_type": "markdown",
   "metadata": {},
   "source": [
    "### Cambiar Ceros no probables por la mediana"
   ]
  },
  {
   "cell_type": "code",
   "execution_count": 227,
   "metadata": {},
   "outputs": [],
   "source": [
    "diabetes[\"BMI\"] = diabetes[\"BMI\"].replace(0,diabetes[\"BMI\"].median())\n",
    "diabetes[\"BloodPressure\"] = diabetes[\"BloodPressure\"].replace(0,diabetes[\"BloodPressure\"].median())"
   ]
  },
  {
   "cell_type": "markdown",
   "metadata": {},
   "source": [
    "### Ordenar Datos"
   ]
  },
  {
   "cell_type": "code",
   "execution_count": 228,
   "metadata": {},
   "outputs": [],
   "source": [
    "diabetes = diabetes.sort_values(\"Outcome\")"
   ]
  },
  {
   "cell_type": "markdown",
   "metadata": {},
   "source": [
    "### Limpiar Datos no Utiles y Outcome"
   ]
  },
  {
   "cell_type": "code",
   "execution_count": 229,
   "metadata": {},
   "outputs": [
    {
     "name": "stdout",
     "output_type": "stream",
     "text": [
      "Valores a eliminar: \n"
     ]
    },
    {
     "data": {
      "application/vnd.jupyter.widget-view+json": {
       "model_id": "609f578357dd405aabcc7ecad7b2e180",
       "version_major": 2,
       "version_minor": 0
      },
      "text/plain": [
       "Checkbox(value=False, description='Pregnancies')"
      ]
     },
     "metadata": {},
     "output_type": "display_data"
    },
    {
     "data": {
      "application/vnd.jupyter.widget-view+json": {
       "model_id": "8c0c043d2d834eda943fc94c1af4078d",
       "version_major": 2,
       "version_minor": 0
      },
      "text/plain": [
       "Checkbox(value=False, description='Glucose')"
      ]
     },
     "metadata": {},
     "output_type": "display_data"
    },
    {
     "data": {
      "application/vnd.jupyter.widget-view+json": {
       "model_id": "03135a1845614bf2a93505aa49f5e0ab",
       "version_major": 2,
       "version_minor": 0
      },
      "text/plain": [
       "Checkbox(value=False, description='BloodPressure')"
      ]
     },
     "metadata": {},
     "output_type": "display_data"
    },
    {
     "data": {
      "application/vnd.jupyter.widget-view+json": {
       "model_id": "27bc7fa3c81f43af9b1b5955761c7e10",
       "version_major": 2,
       "version_minor": 0
      },
      "text/plain": [
       "Checkbox(value=False, description='SkinThickness')"
      ]
     },
     "metadata": {},
     "output_type": "display_data"
    },
    {
     "data": {
      "application/vnd.jupyter.widget-view+json": {
       "model_id": "00ea0bd5e0964141836f41ed94fe9fc7",
       "version_major": 2,
       "version_minor": 0
      },
      "text/plain": [
       "Checkbox(value=False, description='Insulin')"
      ]
     },
     "metadata": {},
     "output_type": "display_data"
    },
    {
     "data": {
      "application/vnd.jupyter.widget-view+json": {
       "model_id": "5d8365c220b947e09fc1e111b2c54d12",
       "version_major": 2,
       "version_minor": 0
      },
      "text/plain": [
       "Checkbox(value=False, description='BMI')"
      ]
     },
     "metadata": {},
     "output_type": "display_data"
    },
    {
     "data": {
      "application/vnd.jupyter.widget-view+json": {
       "model_id": "e57d5e5b56e64c0c9b8bd0fa002dedfc",
       "version_major": 2,
       "version_minor": 0
      },
      "text/plain": [
       "Checkbox(value=False, description='DiabetesPedigreeFunction')"
      ]
     },
     "metadata": {},
     "output_type": "display_data"
    },
    {
     "data": {
      "application/vnd.jupyter.widget-view+json": {
       "model_id": "9e3f25e8a4de4931a45d30f70e38bd55",
       "version_major": 2,
       "version_minor": 0
      },
      "text/plain": [
       "Checkbox(value=False, description='Age')"
      ]
     },
     "metadata": {},
     "output_type": "display_data"
    },
    {
     "data": {
      "application/vnd.jupyter.widget-view+json": {
       "model_id": "5e5ee6b5f5964ad49eb3badc2d817a43",
       "version_major": 2,
       "version_minor": 0
      },
      "text/plain": [
       "Checkbox(value=False, description='Outcome')"
      ]
     },
     "metadata": {},
     "output_type": "display_data"
    }
   ],
   "source": [
    "nVariables = diabetes.columns.values\n",
    "checks = []\n",
    "print(\"Valores a eliminar: \")\n",
    "for n in range(len(nVariables)):\n",
    "    checks.append(widgets.Checkbox(value=False,description=nVariables[n],disabled=False))\n",
    "    display(checks[n])\n",
    "#Activamos por defecto las que creemos que no afectan asi como el outcome\n",
    "#Outcome\n",
    "if checks[len(checks)-1].description == \"Outcome\":\n",
    "    checks[len(checks)-1].value = True\n",
    "    checks[len(checks)-1].disabled = True"
   ]
  },
  {
   "cell_type": "code",
   "execution_count": 230,
   "metadata": {},
   "outputs": [],
   "source": [
    "eliminar = [];\n",
    "for n in range(len(checks)):\n",
    "    if checks[n].value:\n",
    "        eliminar.append(checks[n].description)\n",
    "if eliminar != []:\n",
    "    diabetes = diabetes.drop(columns=eliminar)"
   ]
  },
  {
   "cell_type": "markdown",
   "metadata": {},
   "source": [
    "### Unir por Rango"
   ]
  },
  {
   "cell_type": "code",
   "execution_count": 158,
   "metadata": {},
   "outputs": [],
   "source": [
    "# Listo por si se necesita\n",
    "\"\"\"\n",
    "n = \"DiabetesPedigreeFunction\"\n",
    "Rango = [[diabetes[n].min(),diabetes[n].quantile(0.25)],[diabetes[n].quantile(0.25),diabetes[n].quantile(0.5)],[diabetes[n].quantile(0.5),diabetes[n].quantile(0.75)],[diabetes[n].quantile(0.75),diabetes[n].max()]]\n",
    "diabetes[n] = np.where(diabetes[n].between(Rango[0][0],Rango[0][1]), 0, diabetes[n])\n",
    "diabetes[n] = np.where(diabetes[n].between(Rango[1][0],Rango[1][1]), 1, diabetes[n])\n",
    "diabetes[n] = np.where(diabetes[n].between(Rango[2][0],Rango[2][1]), 2, diabetes[n])\n",
    "diabetes[n] = np.where(diabetes[n].between(Rango[3][0],Rango[3][1]), 3, diabetes[n])\n",
    "\n",
    "n = \"Glucose\"\n",
    "Rango = [[diabetes[n].min(),diabetes[n].quantile(0.25)],[diabetes[n].quantile(0.25),diabetes[n].quantile(0.5)],[diabetes[n].quantile(0.5),diabetes[n].quantile(0.75)],[diabetes[n].quantile(0.75),diabetes[n].max()]]\n",
    "diabetes[n] = np.where(diabetes[n].between(Rango[0][0],Rango[0][1]), 0, diabetes[n])\n",
    "diabetes[n] = np.where(diabetes[n].between(Rango[1][0],Rango[1][1]), 1, diabetes[n])\n",
    "diabetes[n] = np.where(diabetes[n].between(Rango[2][0],Rango[2][1]), 2, diabetes[n])\n",
    "diabetes[n] = np.where(diabetes[n].between(Rango[3][0],Rango[3][1]), 3, diabetes[n])\n",
    "\n",
    "n = \"Insulin\"\n",
    "Rango = [[diabetes[n].min(),diabetes[n].quantile(0.25)],[diabetes[n].quantile(0.25),diabetes[n].quantile(0.5)],[diabetes[n].quantile(0.5),diabetes[n].quantile(0.75)],[diabetes[n].quantile(0.75),diabetes[n].max()]]\n",
    "diabetes[n] = np.where(diabetes[n].between(Rango[0][0],Rango[0][1]), 0, diabetes[n])\n",
    "diabetes[n] = np.where(diabetes[n].between(Rango[1][0],Rango[1][1]), 1, diabetes[n])\n",
    "diabetes[n] = np.where(diabetes[n].between(Rango[2][0],Rango[2][1]), 2, diabetes[n])\n",
    "diabetes[n] = np.where(diabetes[n].between(Rango[3][0],Rango[3][1]), 3, diabetes[n])\n",
    "\"\"\"\""
   ]
  },
  {
   "cell_type": "markdown",
   "metadata": {},
   "source": [
    "### Rellenar Espacios Vacios"
   ]
  },
  {
   "cell_type": "code",
   "execution_count": 231,
   "metadata": {},
   "outputs": [],
   "source": [
    "nVariables = diabetes.columns.values\n",
    "for n in nVariables:\n",
    "    diabetes[n] = diabetes[n].fillna(diabetes[n].median())"
   ]
  },
  {
   "cell_type": "markdown",
   "metadata": {},
   "source": [
    "## Implementacion K-means"
   ]
  },
  {
   "cell_type": "markdown",
   "metadata": {},
   "source": [
    "### Asignar K"
   ]
  },
  {
   "cell_type": "code",
   "execution_count": 232,
   "metadata": {},
   "outputs": [],
   "source": [
    "k = 2"
   ]
  },
  {
   "cell_type": "markdown",
   "metadata": {},
   "source": [
    "### Determinar los centros"
   ]
  },
  {
   "cell_type": "code",
   "execution_count": 233,
   "metadata": {},
   "outputs": [],
   "source": [
    "kmeans = KMeans(n_clusters=k, random_state=0).fit(diabetes)"
   ]
  },
  {
   "cell_type": "markdown",
   "metadata": {},
   "source": [
    "### Mostrar los Centros"
   ]
  },
  {
   "cell_type": "code",
   "execution_count": 234,
   "metadata": {},
   "outputs": [
    {
     "name": "stdout",
     "output_type": "stream",
     "text": [
      "[[  3.7030303  141.46060606  72.78787879  31.2        253.70909091\n",
      "   34.98545455   0.59724848  33.7030303 ]\n",
      " [  3.88391376 115.26699834  72.27694859  17.6185738   32.21227197\n",
      "   31.75737977   0.43757048  33.11442786]]\n"
     ]
    }
   ],
   "source": [
    "print(kmeans.cluster_centers_)"
   ]
  },
  {
   "cell_type": "markdown",
   "metadata": {},
   "source": [
    "### Mostrar los Labels"
   ]
  },
  {
   "cell_type": "code",
   "execution_count": 235,
   "metadata": {},
   "outputs": [
    {
     "name": "stdout",
     "output_type": "stream",
     "text": [
      "[1 1 1 1 0 1 1 1 1 1 1 1 1 1 1 1 1 1 1 1 1 1 1 1 1 1 1 1 0 1 1 1 1 1 1 1 0\n",
      " 0 1 1 1 1 0 1 1 1 1 1 1 1 0 1 1 1 1 1 0 1 1 1 1 1 1 1 1 1 1 1 1 1 1 1 0 1\n",
      " 0 1 1 1 1 1 1 1 1 1 1 1 1 1 1 1 0 1 1 1 1 1 1 1 1 1 1 0 1 0 1 1 1 1 1 1 0\n",
      " 1 1 1 1 1 1 1 0 0 1 1 1 0 1 1 1 1 0 1 1 1 1 0 1 1 0 1 1 1 1 1 0 1 1 1 0 0\n",
      " 1 0 1 1 1 0 1 1 0 1 1 1 0 1 1 0 1 1 1 1 0 1 0 1 1 1 1 1 1 1 1 1 1 1 0 1 1\n",
      " 1 0 1 0 1 0 1 1 0 0 1 1 0 1 1 1 1 1 1 1 1 0 1 1 1 1 1 1 0 1 0 1 1 0 1 0 0\n",
      " 1 1 0 1 1 1 0 1 0 1 1 1 1 1 1 1 1 1 1 0 1 1 1 1 1 1 1 1 1 1 1 0 1 1 0 1 1\n",
      " 1 1 1 1 1 0 1 1 1 1 1 1 1 1 1 1 1 1 1 1 1 1 0 1 1 1 1 1 1 1 0 1 1 0 1 1 1\n",
      " 1 1 1 1 1 0 0 0 1 1 1 1 1 1 0 1 1 1 1 1 1 1 1 1 1 1 0 1 1 1 1 1 1 1 1 1 1\n",
      " 1 1 1 1 1 1 1 1 1 1 0 1 1 1 1 1 1 1 0 1 0 1 1 1 1 1 1 1 1 1 1 1 1 0 1 1 1\n",
      " 1 1 1 1 1 1 1 0 1 1 1 1 1 1 1 1 1 1 1 1 1 1 1 0 1 1 1 1 1 1 0 1 1 1 0 1 1\n",
      " 1 1 1 1 1 0 1 1 1 1 1 1 1 1 0 1 1 1 0 1 1 1 1 1 1 1 0 1 1 1 1 1 1 1 1 1 1\n",
      " 1 1 1 1 1 1 0 1 1 1 1 1 1 0 0 1 1 1 1 1 1 1 1 0 1 1 1 1 1 1 1 0 1 0 1 1 1\n",
      " 1 0 0 1 1 0 1 1 1 1 0 1 1 1 1 1 1 1 1 1 1 0 1 1 1 1 1 1 1 1 1 0 1 0 1 1 0\n",
      " 1 0 1 1 1 1 1 1 0 0 1 0 0 1 1 0 0 1 1 1 0 0 0 0 1 0 1 1 1 1 1 1 0 1 0 1 0\n",
      " 1 1 0 1 0 0 1 0 1 1 0 1 1 1 0 1 1 1 1 1 1 1 1 0 1 1 0 0 1 1 1 1 1 1 1 1 1\n",
      " 1 1 1 1 1 0 1 1 1 1 1 1 1 1 0 1 1 1 0 1 1 0 1 1 0 1 1 0 1 1 1 1 0 1 0 0 0\n",
      " 1 0 0 1 1 1 1 0 0 1 1 0 0 1 0 0 1 0 1 1 1 1 1 1 1 1 1 1 1 0 1 0 1 1 1 0 1\n",
      " 1 1 1 0 1 0 0 1 1 1 1 1 0 1 1 1 1 1 0 1 1 0 0 1 0 0 0 0 0 1 1 1 1 1 1 0 1\n",
      " 0 1 0 0 1 1 0 0 1 1 0 1 1 1 1 1 1 1 0 0 0 1 0 1 0 0 0 1 1 1 1 0 0 0 1 1 1\n",
      " 1 0 1 1 1 1 0 0 1 1 1 1 1 1 1 0 1 1 1 1 1 0 1 1 0 1 0 1]\n"
     ]
    }
   ],
   "source": [
    "print(kmeans.labels_)"
   ]
  },
  {
   "cell_type": "markdown",
   "metadata": {},
   "source": [
    "### Prediccion"
   ]
  },
  {
   "cell_type": "code",
   "execution_count": 117,
   "metadata": {},
   "outputs": [
    {
     "data": {
      "application/vnd.jupyter.widget-view+json": {
       "model_id": "df1a0fb8d06c4ea4924901a94feb2a88",
       "version_major": 2,
       "version_minor": 0
      },
      "text/plain": [
       "BoundedFloatText(value=0.0, description='Pregnancies: ', max=10.0, step=0.1)"
      ]
     },
     "metadata": {},
     "output_type": "display_data"
    },
    {
     "data": {
      "application/vnd.jupyter.widget-view+json": {
       "model_id": "8e809b3090cf4600843a7b5ef7055878",
       "version_major": 2,
       "version_minor": 0
      },
      "text/plain": [
       "BoundedFloatText(value=0.0, description='Glucose: ', max=10.0, step=0.1)"
      ]
     },
     "metadata": {},
     "output_type": "display_data"
    },
    {
     "data": {
      "application/vnd.jupyter.widget-view+json": {
       "model_id": "57e6fa56ca6e49a691c9ac60f63a7794",
       "version_major": 2,
       "version_minor": 0
      },
      "text/plain": [
       "BoundedFloatText(value=0.0, description='BloodPressure: ', max=10.0, step=0.1)"
      ]
     },
     "metadata": {},
     "output_type": "display_data"
    },
    {
     "data": {
      "application/vnd.jupyter.widget-view+json": {
       "model_id": "ad3d6f3b0f874c118e407047b2419c8a",
       "version_major": 2,
       "version_minor": 0
      },
      "text/plain": [
       "BoundedFloatText(value=0.0, description='SkinThickness: ', max=10.0, step=0.1)"
      ]
     },
     "metadata": {},
     "output_type": "display_data"
    },
    {
     "data": {
      "application/vnd.jupyter.widget-view+json": {
       "model_id": "915cc9de8ede4fd2bbbcf8e42bce6798",
       "version_major": 2,
       "version_minor": 0
      },
      "text/plain": [
       "BoundedFloatText(value=0.0, description='Insulin: ', max=10.0, step=0.1)"
      ]
     },
     "metadata": {},
     "output_type": "display_data"
    },
    {
     "data": {
      "application/vnd.jupyter.widget-view+json": {
       "model_id": "caadd543f9414571b5d3025fc113531e",
       "version_major": 2,
       "version_minor": 0
      },
      "text/plain": [
       "BoundedFloatText(value=0.0, description='BMI: ', max=10.0, step=0.1)"
      ]
     },
     "metadata": {},
     "output_type": "display_data"
    },
    {
     "data": {
      "application/vnd.jupyter.widget-view+json": {
       "model_id": "42d1c919e49d4529adb6221e0c576b52",
       "version_major": 2,
       "version_minor": 0
      },
      "text/plain": [
       "BoundedFloatText(value=0.0, description='DiabetesPedigreeFunction: ', max=10.0, step=0.1)"
      ]
     },
     "metadata": {},
     "output_type": "display_data"
    },
    {
     "data": {
      "application/vnd.jupyter.widget-view+json": {
       "model_id": "3763a856e88140b5815d572345b21647",
       "version_major": 2,
       "version_minor": 0
      },
      "text/plain": [
       "BoundedFloatText(value=0.0, description='Age: ', max=10.0, step=0.1)"
      ]
     },
     "metadata": {},
     "output_type": "display_data"
    }
   ],
   "source": [
    "#Parte extra que se iba a tener para ingresar datos y asi identificar si se tiene o no diabetes.\n",
    "nVariables = diabetes.columns.values\n",
    "minV = 0\n",
    "maxV = 10\n",
    "stepV = 0.1\n",
    "valuesPred = []\n",
    "for n in range(len(nVariables)):\n",
    "    valuesPred.append(widgets.BoundedFloatText(value=0,min=minV,max=maxV,step=stepV,description=nVariables[n]+\": \",disabled=False))\n",
    "    display(valuesPred[n])"
   ]
  },
  {
   "cell_type": "code",
   "execution_count": 178,
   "metadata": {},
   "outputs": [
    {
     "data": {
      "text/plain": [
       "'\\nvPred = [];\\nfor n in range(len(nVariables)):\\n    vPred.append(valuesPred[n].value)\\nprint(kmeans.predict(vPred))\\n'"
      ]
     },
     "execution_count": 178,
     "metadata": {},
     "output_type": "execute_result"
    }
   ],
   "source": [
    "\"\"\"\n",
    "vPred = [];\n",
    "for n in range(len(nVariables)):\n",
    "    vPred.append(valuesPred[n].value)\n",
    "print(kmeans.predict(vPred))\n",
    "\"\"\""
   ]
  },
  {
   "cell_type": "markdown",
   "metadata": {},
   "source": [
    "# Preguntas"
   ]
  },
  {
   "cell_type": "markdown",
   "metadata": {},
   "source": [
    "## ¿Crees que estos centros puedan ser representativos de los datos? ¿Por qué?"
   ]
  },
  {
   "cell_type": "markdown",
   "metadata": {},
   "source": [
    "Si, pueden ser repersentativos, solamente que algunos datos los cuales no son muy exactos o tienen valores no probables, pueden estar modificando los resultados de los centros, por lo que pueden ser no muy exactos, esto se podria mejorar usando rangos para algunos datos."
   ]
  },
  {
   "cell_type": "markdown",
   "metadata": {},
   "source": [
    "## ¿Cómo obtuviste el valor de k a usar?"
   ]
  },
  {
   "cell_type": "markdown",
   "metadata": {},
   "source": [
    "Debido a que solo tenemos 2 posibles resultados, si tiene o no tiene diabetes."
   ]
  },
  {
   "cell_type": "markdown",
   "metadata": {},
   "source": [
    "## ¿Los centros serían más representativos si usaras un valor más alto? ¿Más bajo?"
   ]
  },
  {
   "cell_type": "markdown",
   "metadata": {},
   "source": [
    "Si usaramos mas datos es probable que obtendriamos mejores resultados, si tuvieramos menos tendriamos un peor resultado, y podriamos mejorar el resultado usando rangos, solamente que por tiempo no se ha terminado esa parte."
   ]
  },
  {
   "cell_type": "markdown",
   "metadata": {},
   "source": [
    "## ¿Qué distancia tienen los centros entre sí? ¿Hay alguno que este muy cercano a otros?"
   ]
  },
  {
   "cell_type": "code",
   "execution_count": 236,
   "metadata": {},
   "outputs": [
    {
     "name": "stdout",
     "output_type": "stream",
     "text": [
      "223.47815823205042\n"
     ]
    }
   ],
   "source": [
    "distancia = (kmeans.cluster_centers_[0]-kmeans.cluster_centers_[1])**2;\n",
    "distancia = sum(distancia)**(1/2)\n",
    "print(distancia)"
   ]
  },
  {
   "cell_type": "markdown",
   "metadata": {},
   "source": [
    "La distancia entre los centrso es de 223.4781, como solo tenemos 2 centros solo tenemos 1 distancia entre ellos."
   ]
  },
  {
   "cell_type": "markdown",
   "metadata": {},
   "source": [
    "## ¿Qué pasaría con los centros si tuviéramos muchos outliers en el análisis de cajas y bigotes?"
   ]
  },
  {
   "cell_type": "markdown",
   "metadata": {},
   "source": [
    "Si tuvieramos muchos outliers, tendriamos peores resultados, y unos centros muy desubicados, los cuales no nos servirian."
   ]
  },
  {
   "cell_type": "markdown",
   "metadata": {},
   "source": [
    "## ¿Qué puedes decir de los datos basándose en los centros?"
   ]
  },
  {
   "cell_type": "markdown",
   "metadata": {},
   "source": [
    "Segun los centros actuales es mucho mas probable que si se tenga diabetes a que no se tenga (Tenemos mas valores en el centro 1)"
   ]
  }
 ],
 "metadata": {
  "kernelspec": {
   "display_name": "Python 3",
   "language": "python",
   "name": "python3"
  },
  "language_info": {
   "codemirror_mode": {
    "name": "ipython",
    "version": 3
   },
   "file_extension": ".py",
   "mimetype": "text/x-python",
   "name": "python",
   "nbconvert_exporter": "python",
   "pygments_lexer": "ipython3",
   "version": "3.8.5"
  }
 },
 "nbformat": 4,
 "nbformat_minor": 4
}
