{
 "cells": [
  {
   "cell_type": "markdown",
   "metadata": {},
   "source": [
    "# Actividad Evaluable: Exploración de Datos: Análisis Estadístico - Mapas de calor y boxplots"
   ]
  },
  {
   "cell_type": "markdown",
   "metadata": {},
   "source": [
    "Recopilación de Datos Iniciales"
   ]
  },
  {
   "cell_type": "code",
   "execution_count": 24,
   "metadata": {},
   "outputs": [],
   "source": [
    "import numpy as np\n",
    "import matplotlib.pyplot as plt  \n",
    "import pandas as pd  \n",
    "from sklearn.cluster import KMeans\n",
    "import seaborn as sns \n",
    "diabetes=pd.read_csv(\"diabetes.csv\")"
   ]
  },
  {
   "cell_type": "markdown",
   "metadata": {},
   "source": [
    "Descripción de los datos:"
   ]
  },
  {
   "cell_type": "code",
   "execution_count": 4,
   "metadata": {},
   "outputs": [
    {
     "name": "stdout",
     "output_type": "stream",
     "text": [
      "Son 768 Filas\n",
      "Son: 9 Columnas\n"
     ]
    }
   ],
   "source": [
    "dim=diabetes.shape\n",
    "print(\"Son \"+str(dim[0])+\" Filas\\n\"+\"Son: \"+str(dim[1])+\" Columnas\")"
   ]
  },
  {
   "cell_type": "markdown",
   "metadata": {},
   "source": [
    "Hay 9 variables de los cuales cada uno cuenta con 768 datos dentro."
   ]
  },
  {
   "cell_type": "code",
   "execution_count": 5,
   "metadata": {},
   "outputs": [
    {
     "name": "stdout",
     "output_type": "stream",
     "text": [
      "<class 'pandas.core.frame.DataFrame'>\n",
      "RangeIndex: 768 entries, 0 to 767\n",
      "Data columns (total 9 columns):\n",
      " #   Column                    Non-Null Count  Dtype  \n",
      "---  ------                    --------------  -----  \n",
      " 0   Pregnancies               768 non-null    int64  \n",
      " 1   Glucose                   768 non-null    int64  \n",
      " 2   BloodPressure             768 non-null    int64  \n",
      " 3   SkinThickness             768 non-null    int64  \n",
      " 4   Insulin                   768 non-null    int64  \n",
      " 5   BMI                       768 non-null    float64\n",
      " 6   DiabetesPedigreeFunction  768 non-null    float64\n",
      " 7   Age                       768 non-null    int64  \n",
      " 8   Outcome                   768 non-null    int64  \n",
      "dtypes: float64(2), int64(7)\n",
      "memory usage: 54.1 KB\n"
     ]
    }
   ],
   "source": [
    "diabetes.info()"
   ]
  },
  {
   "cell_type": "code",
   "execution_count": 6,
   "metadata": {},
   "outputs": [
    {
     "name": "stdout",
     "output_type": "stream",
     "text": [
      "Pregnancies: Es de tipo cuantitativo discreto\n",
      "Glucose: Es de tipo cuantitativo discreto\n",
      "BloodPresssure: Es de tipo cuantitativo discreto\n",
      "SkinThickness: Es de tipo cuantitativo discreto\n",
      "Insulin: Es de tipo cuantitativo discreto\n",
      "BMI: Es de tipo cuantitativo continuo\n",
      "DPF: Es de tipo cuantitativo continuo\n",
      "Age: Es de tipo cuantitativo discreto\n",
      "Age: Es de tipo cualitativo nominal\n"
     ]
    }
   ],
   "source": [
    "print(\"Pregnancies: Es de tipo cuantitativo discreto\")\n",
    "print(\"Glucose: Es de tipo cuantitativo discreto\")\n",
    "print(\"BloodPresssure: Es de tipo cuantitativo discreto\")\n",
    "print(\"SkinThickness: Es de tipo cuantitativo discreto\")\n",
    "print(\"Insulin: Es de tipo cuantitativo discreto\")\n",
    "print(\"BMI: Es de tipo cuantitativo continuo\")\n",
    "print(\"DPF: Es de tipo cuantitativo continuo\")\n",
    "print(\"Age: Es de tipo cuantitativo discreto\")\n",
    "print(\"Age: Es de tipo cualitativo nominal\")"
   ]
  },
  {
   "cell_type": "markdown",
   "metadata": {},
   "source": [
    "    Pregnancies: Numero de veces embarazada.\n",
    "    Glucose: Concentración de glucosa en plasma a 2 horas en una prueba de tolerancia a la glucosa oral.\n",
    "    BloodPressure: Presión arterial diastólica (mm Hg).\n",
    "    SkinThickness: Espesor del pliegue cutáneo del tríceps (mm).\n",
    "    Insulin: 2-Hour serum inbsulin (mu U/ml).\n",
    "    BMI: Indice de masa corporal (kg/m^2).\n",
    "    DPF: \n",
    "    Age: Edad del paciente.\n",
    "    Outcome: Variable de valores entre 0 y 1."
   ]
  },
  {
   "cell_type": "code",
   "execution_count": 7,
   "metadata": {},
   "outputs": [
    {
     "name": "stdout",
     "output_type": "stream",
     "text": [
      "Pregnancies :\n",
      "--------------------\n",
      "int64\n",
      "Máximo en: 17\n",
      "Minimo en: 0\n",
      "--------------------\n",
      "Glucose :\n",
      "--------------------\n",
      "int64\n",
      "Máximo en: 199\n",
      "Minimo en: 0\n",
      "--------------------\n",
      "BloodPressure :\n",
      "--------------------\n",
      "int64\n",
      "Máximo en: 122\n",
      "Minimo en: 0\n",
      "--------------------\n",
      "SkinThickness :\n",
      "--------------------\n",
      "int64\n",
      "Máximo en: 99\n",
      "Minimo en: 0\n",
      "--------------------\n",
      "Insulin :\n",
      "--------------------\n",
      "int64\n",
      "Máximo en: 846\n",
      "Minimo en: 0\n",
      "--------------------\n",
      "BMI :\n",
      "--------------------\n",
      "float64\n",
      "Máximo en: 67.1\n",
      "Minimo en: 0.0\n",
      "--------------------\n",
      "DiabetesPedigreeFunction :\n",
      "--------------------\n",
      "float64\n",
      "Máximo en: 2.42\n",
      "Minimo en: 0.078\n",
      "--------------------\n",
      "Age :\n",
      "--------------------\n",
      "int64\n",
      "Máximo en: 81\n",
      "Minimo en: 21\n",
      "--------------------\n",
      "Outcome :\n",
      "--------------------\n",
      "int64\n",
      "Máximo en: 1\n",
      "Minimo en: 0\n",
      "--------------------\n"
     ]
    }
   ],
   "source": [
    "colm=diabetes.columns.values\n",
    "for i in colm:\n",
    "    print(i,\":\")\n",
    "    print(\"-\"*20)\n",
    "    print(diabetes[i].dtypes)\n",
    "    print(\"Máximo en:\",diabetes[i].max())\n",
    "    print(\"Minimo en:\",diabetes[i].min())\n",
    "    print(\"-\"*20)"
   ]
  },
  {
   "cell_type": "code",
   "execution_count": 8,
   "metadata": {},
   "outputs": [
    {
     "name": "stdout",
     "output_type": "stream",
     "text": [
      "Personas con diabetes: 268\n",
      "Personas sin diabetes: 500\n"
     ]
    }
   ],
   "source": [
    "cantdia=0\n",
    "for i in range(0,len(diabetes[colm[-1]])):\n",
    "    if diabetes[colm[-1]][i]==1:\n",
    "        cantdia+=1\n",
    "print (\"Personas con diabetes:\",cantdia)\n",
    "print (\"Personas sin diabetes:\",(len(diabetes[colm[-1]])-cantdia))"
   ]
  },
  {
   "cell_type": "markdown",
   "metadata": {},
   "source": [
    "Exploración de datos (Media, mediana)"
   ]
  },
  {
   "cell_type": "code",
   "execution_count": 9,
   "metadata": {},
   "outputs": [
    {
     "name": "stdout",
     "output_type": "stream",
     "text": [
      "Pregnancies :\n",
      "----------------------------------------\n",
      "Media: 3.8450520833333335\n",
      "Mediana: 3.0\n",
      "Desviación Estandar: 3.3695780626988623\n",
      "----------------------------------------\n",
      "Glucose :\n",
      "----------------------------------------\n",
      "Media: 120.89453125\n",
      "Mediana: 117.0\n",
      "Desviación Estandar: 31.97261819513622\n",
      "----------------------------------------\n",
      "BloodPressure :\n",
      "----------------------------------------\n",
      "Media: 69.10546875\n",
      "Mediana: 72.0\n",
      "Desviación Estandar: 19.355807170644777\n",
      "----------------------------------------\n",
      "SkinThickness :\n",
      "----------------------------------------\n",
      "Media: 20.536458333333332\n",
      "Mediana: 23.0\n",
      "Desviación Estandar: 15.952217567727677\n",
      "----------------------------------------\n",
      "Insulin :\n",
      "----------------------------------------\n",
      "Media: 79.79947916666667\n",
      "Mediana: 30.5\n",
      "Desviación Estandar: 115.24400235133837\n",
      "----------------------------------------\n",
      "BMI :\n",
      "----------------------------------------\n",
      "Media: 31.992578124999977\n",
      "Mediana: 32.0\n",
      "Desviación Estandar: 7.8841603203754405\n",
      "----------------------------------------\n",
      "DiabetesPedigreeFunction :\n",
      "----------------------------------------\n",
      "Media: 0.4718763020833327\n",
      "Mediana: 0.3725\n",
      "Desviación Estandar: 0.33132859501277484\n",
      "----------------------------------------\n",
      "Age :\n",
      "----------------------------------------\n",
      "Media: 33.240885416666664\n",
      "Mediana: 29.0\n",
      "Desviación Estandar: 11.76023154067868\n",
      "----------------------------------------\n"
     ]
    }
   ],
   "source": [
    "colm=diabetes.columns.values\n",
    "for i in colm:\n",
    "    if i!=colm[-1]: #Caso particular: col. final. No categorica\n",
    "        print(i,\":\")\n",
    "        print(\"-\"*40)\n",
    "        print(\"Media:\",diabetes[i].mean())\n",
    "        print(\"Mediana:\",diabetes[i].median())\n",
    "        print(\"Desviación Estandar:\",diabetes[i].std())\n",
    "        print(\"-\"*40)"
   ]
  },
  {
   "cell_type": "markdown",
   "metadata": {},
   "source": [
    "Visualización de datos:"
   ]
  },
  {
   "cell_type": "code",
   "execution_count": 13,
   "metadata": {},
   "outputs": [
    {
     "data": {
      "text/plain": [
       "<AxesSubplot:xlabel='Outcome', ylabel='Age'>"
      ]
     },
     "execution_count": 13,
     "metadata": {},
     "output_type": "execute_result"
    },
    {
     "data": {
      "image/png": "[encoded data removed]",
      "text/plain": [
       "<Figure size 432x288 with 1 Axes>"
      ]
     },
     "metadata": {
      "needs_background": "light"
     },
     "output_type": "display_data"
    }
   ],
   "source": [
    "sns.boxplot(x=\"Outcome\", y=\"Age\", data=diabetes)\n",
    "sns.stripplot(x=\"Outcome\", y=\"Age\",data=diabetes, jitter=True,\n",
    "                edgecolor=\"gray\")"
   ]
  },
  {
   "cell_type": "markdown",
   "metadata": {},
   "source": [
    "Encontramos que la edad para las personas sin diabetes y con diabetes no difere mucho sin embargo se encuentra mucho mayor dispersión o valores fuera de rango en el caso de los que no tienen diabetes"
   ]
  },
  {
   "cell_type": "markdown",
   "metadata": {},
   "source": []
  },
  {
   "cell_type": "code",
   "execution_count": 14,
   "metadata": {},
   "outputs": [
    {
     "data": {
      "image/png": "[encoded data removed]",
      "text/plain": [
       "<Figure size 648x504 with 9 Axes>"
      ]
     },
     "metadata": {
      "needs_background": "light"
     },
     "output_type": "display_data"
    }
   ],
   "source": [
    "diabetes.hist(bins=10,figsize=(9,7),grid=False, color=['#336699']);"
   ]
  },
  {
   "cell_type": "code",
   "execution_count": 19,
   "metadata": {
    "scrolled": true
   },
   "outputs": [
    {
     "data": {
      "image/png": "[encoded data removed]",
      "text/plain": [
       "<Figure size 720x720 with 2 Axes>"
      ]
     },
     "metadata": {
      "needs_background": "light"
     },
     "output_type": "display_data"
    }
   ],
   "source": [
    "corr_mat=diabetes.corr().round(2)\n",
    "plt.figure(figsize=(10, 10))\n",
    "sns.heatmap(data=corr_mat, annot=True,cmap='YlGnBu',linecolor=\"white\")\n",
    "plt.title('Correlatción entre variables');"
   ]
  },
  {
   "cell_type": "markdown",
   "metadata": {},
   "source": [
    "De acuerdo con NIH, Existen diversos factores para la terminación de la diabetes, en estos se detallan la insulina, el BMI, los antecedentes familiares (DPF), la edad, presión arterial, la glucosa y si es que esta persona dio a luz a un bebé que pesó mas de 9 libras, también otro estudio encontró que existe cierta relación entre el espesor de la piel en personas con diabetes, mostrando que este es mayor."
   ]
  },
  {
   "cell_type": "markdown",
   "metadata": {},
   "source": [
    "#### ¿Hay alguna variable que no aporta información?\n",
    "De acuerdo con el mapa de calor, se encuentra una baja relación entre si la persona es diabética (Outcome) con respecto a la presión sanguínea y el espesor de la piel por lo que, se puede determinar que no tienen impacto, o menor impacto."
   ]
  },
  {
   "cell_type": "markdown",
   "metadata": {},
   "source": [
    "#### Si tuvieras que eliminar variables, ¿cuáles quitarías y por qué?\n",
    "Eliminaría la presión sanguinea y el espesor de piel ya que estos valores no generan un gran impacto en la determinación de diabetes de una persona."
   ]
  },
  {
   "cell_type": "markdown",
   "metadata": {},
   "source": [
    "#### ¿Existen variables que tengan datos extraños?\n",
    "Existen valores nulos para BMI y otras demás variables, lo cual es muy extraño puesto que no puede existir valores nulos para este tipo de dato, probablemente sea un error o en caso contrario no se registró ese dato de la persona."
   ]
  },
  {
   "cell_type": "markdown",
   "metadata": {},
   "source": [
    "#### Si comparas las variables, ¿todas están en rangos similares? ¿Crees que esto afecte?\n",
    "no, los rangos son diferentes para la mayoría de las variables y aunque estos valores tengan el mismo rango, no considero que exista un problema ya que cada variable cuenta con un peso ponderado en la determinación de la diabetes."
   ]
  },
  {
   "cell_type": "markdown",
   "metadata": {},
   "source": [
    "#### ¿Puedes encontrar grupos qué se parezcan? ¿Qué grupos son estos?\n",
    "Que se parezcan como tal no, pero la edad parece tener una gran relación con la cantidad de embarazos, con una correlación de 0.54."
   ]
  },
  {
   "cell_type": "markdown",
   "metadata": {},
   "source": [
    "Referencias:\n",
    "    https://www.niddk.nih.gov/health-information/informacion-de-la-salud/diabetes/informacion-general/factores-riesgo-tipo-2\n",
    "    \n",
    "    https://www.hormone.org/pacientes-y-cuidadores/la-diabetes-e-insulina#:~:text=La%20insulina%20es%20una%20hormona,llamado%20resistencia%20a%20la%20insulina).\n",
    "    https://medlineplus.gov/spanish/ency/article/001214.htm#:~:text=Se%20diagnostica%20diabetes%20si%20el,para%20la%20diabetes%20tipo%202.\n",
    "    \n",
    "    http://www.enfermeriaaps.com/portal/?wpfb_dl=4256\n",
    "    \n",
    "    https://www.kaggle.com/uciml/pima-indians-diabetes-database/activity"
   ]
  },
  {
   "cell_type": "markdown",
   "metadata": {},
   "source": [
    "#  Eliminación de variables no relevantes"
   ]
  },
  {
   "cell_type": "code",
   "execution_count": 46,
   "metadata": {},
   "outputs": [
    {
     "data": {
      "text/html": [
       "<div>\n",
       "<style scoped>\n",
       "    .dataframe tbody tr th:only-of-type {\n",
       "        vertical-align: middle;\n",
       "    }\n",
       "\n",
       "    .dataframe tbody tr th {\n",
       "        vertical-align: top;\n",
       "    }\n",
       "\n",
       "    .dataframe thead th {\n",
       "        text-align: right;\n",
       "    }\n",
       "</style>\n",
       "<table border=\"1\" class=\"dataframe\">\n",
       "  <thead>\n",
       "    <tr style=\"text-align: right;\">\n",
       "      <th></th>\n",
       "      <th>Pregnancies</th>\n",
       "      <th>Glucose</th>\n",
       "      <th>Insulin</th>\n",
       "      <th>BMI</th>\n",
       "      <th>DiabetesPedigreeFunction</th>\n",
       "      <th>Age</th>\n",
       "    </tr>\n",
       "  </thead>\n",
       "  <tbody>\n",
       "    <tr>\n",
       "      <th>0</th>\n",
       "      <td>6</td>\n",
       "      <td>148</td>\n",
       "      <td>0</td>\n",
       "      <td>33.6</td>\n",
       "      <td>0.627</td>\n",
       "      <td>50</td>\n",
       "    </tr>\n",
       "    <tr>\n",
       "      <th>1</th>\n",
       "      <td>1</td>\n",
       "      <td>85</td>\n",
       "      <td>0</td>\n",
       "      <td>26.6</td>\n",
       "      <td>0.351</td>\n",
       "      <td>31</td>\n",
       "    </tr>\n",
       "    <tr>\n",
       "      <th>2</th>\n",
       "      <td>8</td>\n",
       "      <td>183</td>\n",
       "      <td>0</td>\n",
       "      <td>23.3</td>\n",
       "      <td>0.672</td>\n",
       "      <td>32</td>\n",
       "    </tr>\n",
       "    <tr>\n",
       "      <th>3</th>\n",
       "      <td>1</td>\n",
       "      <td>89</td>\n",
       "      <td>94</td>\n",
       "      <td>28.1</td>\n",
       "      <td>0.167</td>\n",
       "      <td>21</td>\n",
       "    </tr>\n",
       "    <tr>\n",
       "      <th>4</th>\n",
       "      <td>0</td>\n",
       "      <td>137</td>\n",
       "      <td>168</td>\n",
       "      <td>43.1</td>\n",
       "      <td>2.288</td>\n",
       "      <td>33</td>\n",
       "    </tr>\n",
       "  </tbody>\n",
       "</table>\n",
       "</div>"
      ],
      "text/plain": [
       "   Pregnancies  Glucose  Insulin   BMI  DiabetesPedigreeFunction  Age\n",
       "0            6      148        0  33.6                     0.627   50\n",
       "1            1       85        0  26.6                     0.351   31\n",
       "2            8      183        0  23.3                     0.672   32\n",
       "3            1       89       94  28.1                     0.167   21\n",
       "4            0      137      168  43.1                     2.288   33"
      ]
     },
     "execution_count": 46,
     "metadata": {},
     "output_type": "execute_result"
    }
   ],
   "source": [
    "diabetes_mod = diabetes.drop(['BloodPressure','SkinThickness', 'Outcome'], axis=1)\n",
    "diabetes_mod.head()"
   ]
  },
  {
   "cell_type": "markdown",
   "metadata": {},
   "source": [
    "Se creó un nuevo documento de diabetes para el cual se eliminaron las columnas de \"SkinThickness\", \"BlooodPressure\" y \"Outcome\" ya que, para el caso de las dos primeras variables, la relación que existe con la variable que determina a una persona con diabetes era bajo, de 0.7 específicamente; para el caso de \"Outcome\" este se eliminó ya que se busca generar un aprendizaje no supervisado y para ello no podemos contar con una etiqueta como la de la columna \"Outcome\""
   ]
  },
  {
   "cell_type": "markdown",
   "metadata": {},
   "source": [
    "# Correción de Variables nulas"
   ]
  },
  {
   "cell_type": "code",
   "execution_count": 29,
   "metadata": {},
   "outputs": [
    {
     "name": "stdout",
     "output_type": "stream",
     "text": [
      "<class 'pandas.core.frame.DataFrame'>\n",
      "RangeIndex: 768 entries, 0 to 767\n",
      "Data columns (total 6 columns):\n",
      " #   Column                    Non-Null Count  Dtype  \n",
      "---  ------                    --------------  -----  \n",
      " 0   Pregnancies               768 non-null    int64  \n",
      " 1   Glucose                   768 non-null    int64  \n",
      " 2   Insulin                   768 non-null    int64  \n",
      " 3   BMI                       768 non-null    float64\n",
      " 4   DiabetesPedigreeFunction  768 non-null    float64\n",
      " 5   Age                       768 non-null    int64  \n",
      "dtypes: float64(2), int64(4)\n",
      "memory usage: 36.1 KB\n"
     ]
    }
   ],
   "source": [
    "diabetes_mod.info()"
   ]
  },
  {
   "cell_type": "markdown",
   "metadata": {},
   "source": [
    "No existen variables nulas en ninguna variable"
   ]
  },
  {
   "cell_type": "code",
   "execution_count": 43,
   "metadata": {},
   "outputs": [
    {
     "data": {
      "text/html": [
       "<div>\n",
       "<style scoped>\n",
       "    .dataframe tbody tr th:only-of-type {\n",
       "        vertical-align: middle;\n",
       "    }\n",
       "\n",
       "    .dataframe tbody tr th {\n",
       "        vertical-align: top;\n",
       "    }\n",
       "\n",
       "    .dataframe thead th {\n",
       "        text-align: right;\n",
       "    }\n",
       "</style>\n",
       "<table border=\"1\" class=\"dataframe\">\n",
       "  <thead>\n",
       "    <tr style=\"text-align: right;\">\n",
       "      <th></th>\n",
       "      <th>Pregnancies</th>\n",
       "      <th>Glucose</th>\n",
       "      <th>Insulin</th>\n",
       "      <th>BMI</th>\n",
       "      <th>DiabetesPedigreeFunction</th>\n",
       "      <th>Age</th>\n",
       "    </tr>\n",
       "  </thead>\n",
       "  <tbody>\n",
       "    <tr>\n",
       "      <th>0</th>\n",
       "      <td>6</td>\n",
       "      <td>148</td>\n",
       "      <td>&lt;bound method Series.median of 0        0\\n1  ...</td>\n",
       "      <td>33.6</td>\n",
       "      <td>0.627</td>\n",
       "      <td>50</td>\n",
       "    </tr>\n",
       "    <tr>\n",
       "      <th>1</th>\n",
       "      <td>1</td>\n",
       "      <td>85</td>\n",
       "      <td>&lt;bound method Series.median of 0        0\\n1  ...</td>\n",
       "      <td>26.6</td>\n",
       "      <td>0.351</td>\n",
       "      <td>31</td>\n",
       "    </tr>\n",
       "    <tr>\n",
       "      <th>2</th>\n",
       "      <td>8</td>\n",
       "      <td>183</td>\n",
       "      <td>&lt;bound method Series.median of 0        0\\n1  ...</td>\n",
       "      <td>23.3</td>\n",
       "      <td>0.672</td>\n",
       "      <td>32</td>\n",
       "    </tr>\n",
       "    <tr>\n",
       "      <th>3</th>\n",
       "      <td>1</td>\n",
       "      <td>89</td>\n",
       "      <td>94</td>\n",
       "      <td>28.1</td>\n",
       "      <td>0.167</td>\n",
       "      <td>21</td>\n",
       "    </tr>\n",
       "    <tr>\n",
       "      <th>4</th>\n",
       "      <td>0</td>\n",
       "      <td>137</td>\n",
       "      <td>168</td>\n",
       "      <td>43.1</td>\n",
       "      <td>2.288</td>\n",
       "      <td>33</td>\n",
       "    </tr>\n",
       "  </tbody>\n",
       "</table>\n",
       "</div>"
      ],
      "text/plain": [
       "   Pregnancies  Glucose                                            Insulin  \\\n",
       "0            6      148  <bound method Series.median of 0        0\\n1  ...   \n",
       "1            1       85  <bound method Series.median of 0        0\\n1  ...   \n",
       "2            8      183  <bound method Series.median of 0        0\\n1  ...   \n",
       "3            1       89                                                 94   \n",
       "4            0      137                                                168   \n",
       "\n",
       "    BMI  DiabetesPedigreeFunction  Age  \n",
       "0  33.6                     0.627   50  \n",
       "1  26.6                     0.351   31  \n",
       "2  23.3                     0.672   32  \n",
       "3  28.1                     0.167   21  \n",
       "4  43.1                     2.288   33  "
      ]
     },
     "execution_count": 43,
     "metadata": {},
     "output_type": "execute_result"
    }
   ],
   "source": [
    "diabetes_mod.head()"
   ]
  },
  {
   "cell_type": "code",
   "execution_count": 49,
   "metadata": {
    "scrolled": true
   },
   "outputs": [
    {
     "name": "stdout",
     "output_type": "stream",
     "text": [
      "[[  3.89768977 115.3960396   32.75412541  31.21930693   0.43894884\n",
      "   33.12541254]\n",
      " [  3.64814815 141.46296296 255.78395062  34.88518519   0.59504938\n",
      "   33.67283951]]\n",
      "[0 0 0 0 1 0 0 0 1 0 0 0 0 1 1 0 1 0 0 0 1 0 0 0 1 0 0 0 0 0 0 1 0 0 0 1 0\n",
      " 0 0 1 0 0 0 1 0 0 0 0 0 0 0 0 0 1 1 0 1 0 0 0 0 0 0 0 0 0 0 0 0 0 0 0 0 1\n",
      " 0 0 0 0 0 0 0 0 0 0 0 0 0 0 0 0 0 1 0 0 0 1 0 0 0 1 0 0 0 0 0 1 0 0 0 0 0\n",
      " 1 0 0 1 0 0 0 0 0 0 0 0 0 0 0 0 0 0 0 1 0 1 0 0 0 0 0 0 1 0 0 0 0 1 0 0 0\n",
      " 0 0 1 0 1 1 0 0 0 0 0 0 0 0 1 0 0 1 0 0 0 0 0 0 0 0 0 0 0 0 0 0 0 0 0 0 0\n",
      " 0 1 0 0 1 0 0 0 0 0 1 0 0 0 1 0 0 0 0 1 0 1 0 0 0 0 0 0 0 1 1 0 0 0 0 1 0\n",
      " 0 1 0 0 0 0 1 0 0 1 0 0 0 0 1 0 0 0 0 0 0 1 1 0 0 1 1 0 0 0 0 0 1 0 0 0 1\n",
      " 1 0 0 0 0 0 0 0 0 0 0 0 0 0 0 0 0 0 0 0 1 0 0 1 0 0 0 1 1 0 0 0 0 1 1 0 0\n",
      " 1 1 1 0 0 0 0 0 0 0 0 1 1 1 0 1 0 0 0 0 0 0 0 0 1 0 0 0 0 1 1 0 0 0 0 0 0\n",
      " 0 0 1 0 0 1 0 0 0 0 0 0 0 0 0 0 0 0 0 0 0 0 0 1 0 0 1 1 0 0 0 1 0 0 0 0 0\n",
      " 1 0 0 0 1 1 0 0 0 0 0 0 1 0 0 0 0 0 1 0 1 0 1 0 0 1 0 0 0 0 0 0 0 0 0 1 0\n",
      " 0 0 1 0 1 1 0 1 1 0 0 0 0 1 0 0 0 1 1 0 1 1 1 0 0 0 0 0 0 0 0 0 0 0 0 0 0\n",
      " 0 0 0 0 0 0 0 0 1 0 0 0 0 0 1 0 0 0 0 0 0 0 0 0 0 0 0 0 0 0 0 0 1 0 0 0 1\n",
      " 0 0 0 0 1 1 1 0 0 0 0 0 0 0 0 0 0 1 1 0 0 0 0 0 0 0 1 0 0 0 1 0 0 0 0 1 0\n",
      " 0 1 0 0 0 0 0 0 0 0 1 0 0 0 0 0 0 0 0 0 1 1 1 1 0 0 0 1 1 1 0 0 0 0 0 0 0\n",
      " 1 0 0 0 0 0 1 0 0 0 0 0 0 0 1 0 0 0 0 1 0 0 0 0 0 0 0 0 0 1 0 0 0 1 0 0 0\n",
      " 0 0 1 1 0 0 0 0 0 0 0 0 0 0 1 0 1 1 1 1 1 0 1 0 0 0 0 0 1 0 0 0 0 0 0 0 0\n",
      " 0 0 0 0 1 0 0 0 0 0 0 0 0 0 0 1 1 1 1 0 0 0 0 0 0 0 1 0 1 0 0 0 0 1 0 0 0\n",
      " 0 0 1 0 1 0 0 1 0 0 0 0 0 1 0 0 0 0 0 1 0 0 1 1 0 0 0 0 0 1 0 0 1 0 1 0 0\n",
      " 0 0 0 0 1 0 1 1 0 0 1 0 1 1 0 1 0 0 1 0 0 0 0 1 0 0 0 0 0 0 1 0 0 0 0 1 0\n",
      " 1 0 0 0 0 0 0 0 1 0 0 0 0 1 0 0 0 0 0 0 0 0 0 1 0 0 0 0]\n"
     ]
    },
    {
     "data": {
      "text/plain": [
       "array([[  0.        , 224.57874432],\n",
       "       [224.57874432,   0.        ]])"
      ]
     },
     "execution_count": 49,
     "metadata": {},
     "output_type": "execute_result"
    }
   ],
   "source": [
    "from sklearn.metrics.pairwise import euclidean_distances\n",
    "# Llamar al modelo KMeans, especificando número de clusters: 3 y hacer ajuste a los datos usando la función fit. \n",
    "# El modelo que ya aprendió se guarda en la variable kmeans.\n",
    "kmeans=KMeans(n_clusters=2, random_state=0).fit(diabetes_mod)\n",
    "# Mostrar los centroides obtenidos por el modelo generado con la librería sklearn\n",
    "print(kmeans.cluster_centers_)\n",
    "# Mostrar las etiquetas asignadas a los datos\n",
    "print(kmeans.labels_)\n",
    "euclidean_distances(kmeans.cluster_centers_)"
   ]
  },
  {
   "cell_type": "code",
   "execution_count": null,
   "metadata": {},
   "outputs": [],
   "source": []
  },
  {
   "cell_type": "code",
   "execution_count": null,
   "metadata": {},
   "outputs": [],
   "source": [
    "\n",
    "Dibujar en el plano cartesiano los puntos y los centroides obtenidos por el modelo generado con la librería sklearn \n",
    "\n",
    "plt.scatter(arreglo[:, 0], arreglo[:, -1])  \n",
    "plt.scatter(kmeans.cluster_centers_[:, 0], kmeans.cluster_centers_[:, 1], c='red', marker='x')\n",
    "    \n",
    "plt.title('Puntos y Centroides')\n",
    "plt.show()"
   ]
  },
  {
   "cell_type": "markdown",
   "metadata": {},
   "source": [
    "# Preguntas"
   ]
  },
  {
   "cell_type": "markdown",
   "metadata": {},
   "source": [
    "¿Crees que estos centros puedan ser representativos de los datos? ¿Por qué?\n",
    "Si, ya que cada una de las características de los pacientes llevan a dos únicos resultados, cuentan o no con diabetes por lo que estos centros agrupandose en la zona de mayores conccentraciones representarán los datos.\n",
    "¿Cómo obtuviste el valor de k a usar?\n",
    "El valor de k son las etiquetas a utilizar, para este caso se necesitan determinar si la persona tiene diabetes o no\n",
    "¿Los centros serían más representativos si usaras un valor más alto? ¿Más bajo?\n",
    "\n",
    "¿Qué distancia tienen los centros entre sí? ¿Hay alguno que este muy cercano a otros?\n",
    "se obtuvo una distancia de 224.57\n",
    "¿Qué pasaría con los centros si tuviéramos muchos outliers en el análisis de cajas y bigotes?\n",
    "Existiría mayor dispersión por lo que representaría un problema al analizar los datos.\n",
    "\n",
    "¿Qué puedes decir de los datos basándose en los centros?\n",
    "Los datos que se entuentren en [  3.64814815 141.46296296 255.78395062  34.88518519   0.59504938 33.67283951] tendrán mayores problabilidades de contar con diabetes mientras que las demás personas ubicadas en los demás puntos tendrán mayor probabilidad de encontrarse fuera de estos."
   ]
  }
 ],
 "metadata": {
  "kernelspec": {
   "display_name": "Python 3",
   "language": "python",
   "name": "python3"
  },
  "language_info": {
   "codemirror_mode": {
    "name": "ipython",
    "version": 3
   },
   "file_extension": ".py",
   "mimetype": "text/x-python",
   "name": "python",
   "nbconvert_exporter": "python",
   "pygments_lexer": "ipython3",
   "version": "3.8.5"
  }
 },
 "nbformat": 4,
 "nbformat_minor": 4
}
